{
 "cells": [
  {
   "cell_type": "markdown",
   "source": [
    "# Quantum Implementation of a Binary Valued Perceptron\r\n",
    "## Group Members\r\n",
    "- Ghani Haider \r\n",
    "- Neha Mumtaz Jafry \r\n",
    "\r\n",
    "A detailed report about the explanation and implementation of the paper and generated results is submitted with this jupyter file. This script is the implementation of the proposed algorithm by [Tacchino et al](https://www.nature.com/articles/s41534-019-0140-4) for a quantum binary perceptron. We are implementing the quantum solution for $2^3$-dimension input and weight vector. However, the written solution can work with any $2^n$-dimension vectors. We are also simulating the circuit on both ideal and noisy models.\r\n",
    "\r\n",
    "## Structure of a Quantum Peceptron\r\n",
    "Similar to the classical perceptron, the quantum binary perceptron also has m-dimensional $\\vec{i}$ input\r\n",
    "and $\\vec{w}$ weight vectors where $\\vec{i_j}$, $\\vec{w_j} \\in \\{−1,1\\}$. These\r\n",
    "vectors are encoded on an N-qubit quantum hardware, where $N = log_2(m)$. The figure below shows the structure of the quantum perceptron. As we can see, instead of the linear combination in a classical\r\n",
    "neuron, the input vector goes through two unitary transformations using the $Ui$ and $Uw$ blocks,\r\n",
    "which each utilize the input and weight vector respectively. Then using a multi-controlled NOT\r\n",
    "gate, which serves as the activation function, we measure the output of the neuron on the ancilla\r\n",
    "qubit.\r\n",
    "\r\n",
    "[![oRnPBh.jpg](https://i.im.ge/2021/12/04/oRnPBh.jpg)](https://im.ge/i/oRnPBh)\r\n",
    "\r\n",
    "### In order to implement the algorithm, we will first introduce the Sign-Flip Blocks."
   ],
   "metadata": {}
  },
  {
   "cell_type": "code",
   "execution_count": 1,
   "source": [
    "from qiskit import QuantumCircuit,execute,Aer,IBMQ\r\n",
    "from qiskit.providers.aer.noise import NoiseModel\r\n",
    "from itertools import combinations\r\n",
    "import matplotlib.pyplot as plt\r\n",
    "import numpy as np"
   ],
   "outputs": [],
   "metadata": {}
  },
  {
   "cell_type": "markdown",
   "source": [
    "# Sign-Flip Blocks\r\n",
    "Assume we have a 8-dimension input vector given as $\\vec{i}$ = (-1, 1, 1, 1, 1, 1, 1, 1). It can be represented as\r\n",
    "| $\\vec{i_j}$ | val |\r\n",
    "| :-: |:-: |\r\n",
    "|000|-1|\r\n",
    "|001|1|\r\n",
    "|010|1|\r\n",
    "|011|1|\r\n",
    "|100|1|\r\n",
    "|101|1|\r\n",
    "|110|1|\r\n",
    "|111|1|\r\n",
    "\r\n",
    "\r\n",
    "So the number of qubits required to represent the input vector is $log_2(m) = log_2(8) = 3$. In order to encode the vector values (-1,1) into the qubits, we can generate the super-positions of the qubits using Hadamard gates which will give\r\n",
    "$$|000\\rangle => |000\\rangle + |001\\rangle + |010\\rangle+ |011\\rangle + |100\\rangle + |101\\rangle + |110\\rangle+ |111\\rangle$$\r\n",
    "We can then use an ancila qubit in the state $|-\\rangle$ and apply multi-control CNOT gate on it to introduce $-1$ infront of the superposition where $\\vec{i_j} = -1$.\r\n",
    "In the given case, we have $-1$ in the input vector at $j = 000$ or $0$ in decimal notation. We define a Sign-Flip block $SF_{3, 0}$ such that it would apply X gate on the 3-qubits where each qubit is in $|0\\rangle$ state. Once the $|0\\rangle$ state qubits are flipped, all 3-qubits are in $|1\\rangle$ state thus the CNOT gate is applied on the ancila qubit in $|-\\rangle$ state which would yield a negative sign.\r\n",
    "$$|-\\rangle = |0\\rangle - |1\\rangle$$\r\n",
    "apply CNOT gate\r\n",
    "$$|0\\rangle - |1\\rangle => |1\\rangle - |0\\rangle = -(|0\\rangle - |1\\rangle)$$"
   ],
   "metadata": {}
  },
  {
   "cell_type": "code",
   "execution_count": 2,
   "source": [
    "# A single Sign Flip Block\r\n",
    "def SF(nqubits, j, displays=False):\r\n",
    "    qcSF = QuantumCircuit(nqubits+1)\r\n",
    "    binj = bin(j)[2:].rjust(nqubits,'0')\r\n",
    "\r\n",
    "    # apply X gate on qubits\r\n",
    "    for (i,s) in zip(range(nqubits),binj):\r\n",
    "            if s == '0':\r\n",
    "                qcSF.x(i) \r\n",
    "\r\n",
    "    # MCT to flip the sign\r\n",
    "    lst = [j for j in range(nqubits)]\r\n",
    "    qcSF.mct(lst, nqubits)\r\n",
    "\r\n",
    "    # reverse the X gate on qubits\r\n",
    "    for (i,s) in zip(range(nqubits),binj):\r\n",
    "            if s == '0':\r\n",
    "                qcSF.x(i) \r\n",
    "\r\n",
    "    qcSF.barrier()\r\n",
    "\r\n",
    "    # draw the circuit\r\n",
    "    if displays:\r\n",
    "        display(qcSF.draw())\r\n",
    "\r\n",
    "    return qcSF"
   ],
   "outputs": [],
   "metadata": {}
  },
  {
   "cell_type": "code",
   "execution_count": 12,
   "source": [
    "# example of a circuit with three qubits and SF block for position 000\r\n",
    "circuit = SF(3, 0, True)"
   ],
   "outputs": [
    {
     "output_type": "display_data",
     "data": {
      "text/html": [
       "<pre style=\"word-wrap: normal;white-space: pre;background: #fff0;line-height: 1.1;font-family: &quot;Courier New&quot;,Courier,monospace\">     ┌───┐     ┌───┐ ░ \n",
       "q_0: ┤ X ├──■──┤ X ├─░─\n",
       "     ├───┤  │  ├───┤ ░ \n",
       "q_1: ┤ X ├──■──┤ X ├─░─\n",
       "     ├───┤  │  ├───┤ ░ \n",
       "q_2: ┤ X ├──■──┤ X ├─░─\n",
       "     └───┘┌─┴─┐└───┘ ░ \n",
       "q_3: ─────┤ X ├──────░─\n",
       "          └───┘      ░ </pre>"
      ],
      "text/plain": [
       "     ┌───┐     ┌───┐ ░ \n",
       "q_0: ┤ X ├──■──┤ X ├─░─\n",
       "     ├───┤  │  ├───┤ ░ \n",
       "q_1: ┤ X ├──■──┤ X ├─░─\n",
       "     ├───┤  │  ├───┤ ░ \n",
       "q_2: ┤ X ├──■──┤ X ├─░─\n",
       "     └───┘┌─┴─┐└───┘ ░ \n",
       "q_3: ─────┤ X ├──────░─\n",
       "          └───┘      ░ "
      ]
     },
     "metadata": {}
    }
   ],
   "metadata": {}
  },
  {
   "cell_type": "markdown",
   "source": [
    "# Algorithm Implementation\r\n",
    "## The steps to implement the general algorithm for the quantum perceptron is given as:\r\n",
    "1. Create a quantum circuit with N-qubits and an ancila qubit in $|0\\rangle$ state given $2^N$ dimension $\\vec{i}$ input and $\\vec{w}$ weight vectors.\r\n",
    "2. Initialize the ancila qubit in $|-\\rangle$ state by appyling X gate followed by a Hadamard gate.\r\n",
    "3. Apply $U_i$ transformation by first applying parallel Hadamard gates, creating equal super-position of all the elements of the computational basis and then encoding values of input vector $\\vec{i}$ by applying $SF_{N, j}$ blocks wherever $\\vec{i_j} = -1$. The result is state $|\\psi_i\\rangle$.\r\n",
    "4. Similarly, apply $U_w$ transformation using weight vector $\\vec{w}$. The result is state $|\\psi_w\\rangle$ on which parallel Hadamard gates are applied again follow by NOT gates to get the desired $|11...1\\rangle$ state.\r\n",
    "5. Set the ancila qubit in $|0\\rangle$ state by appyling Hamdamard gate followed by a X gate.\r\n",
    "6. Measure the output on the ancila qubit."
   ],
   "metadata": {}
  },
  {
   "cell_type": "code",
   "execution_count": 4,
   "source": [
    "\r\n",
    "def QuantumNeuron(i, weight, displays=False, noise=False):\r\n",
    "    nqubits = int(np.log2(len(i)))\r\n",
    "\r\n",
    "    qcphii = QuantumCircuit(nqubits + 1, 1)#ancilla added\r\n",
    "\r\n",
    "    # adding the hadamard gates\r\n",
    "    for j in range(nqubits):    \r\n",
    "        qcphii.h(j)\r\n",
    "    # add not and h for the ancilla qubit\r\n",
    "    qcphii.x(-1)\r\n",
    "    qcphii.h(-1)\r\n",
    "    qcphii.barrier()\r\n",
    "\r\n",
    "    ### U_i transormation ###\r\n",
    "    # implementing sign flip blocks for vector i\r\n",
    "    for j in range(2**(nqubits)):\r\n",
    "        if i[j] == -1:\r\n",
    "            SFN_j = SF(nqubits,j)\r\n",
    "            qcphii.compose(SFN_j, inplace=True)\r\n",
    "\r\n",
    "    ### U_w transormation ###\r\n",
    "    # implementing sign flip blocks for vector w\r\n",
    "    for j in range(2**(nqubits)):\r\n",
    "        if weight[j] == -1:\r\n",
    "            SFN_j = SF(nqubits,j)\r\n",
    "            qcphii.compose(SFN_j, inplace=True)\r\n",
    "\r\n",
    "    # reverse hadamard gates\r\n",
    "    for j in range(nqubits):    \r\n",
    "        qcphii.h(j)\r\n",
    "    # add not and h for ancilla\r\n",
    "    qcphii.h(-1)\r\n",
    "    qcphii.x(-1)\r\n",
    "    qcphii.barrier()\r\n",
    "\r\n",
    "    # not gates on the qubits to obtain state |111...1>\r\n",
    "    for j in range(nqubits):    \r\n",
    "        qcphii.x(j)\r\n",
    "\r\n",
    "    # MCT on the ancilla to measure\r\n",
    "    lst = [j for j in range(nqubits)]\r\n",
    "    qcphii.mct(lst, nqubits)\r\n",
    "\r\n",
    "    # measure values\r\n",
    "    qcphii.measure(nqubits, 0)\r\n",
    "\r\n",
    "    # draw the circuit\r\n",
    "    if displays:\r\n",
    "        display(qcphii.draw())\r\n",
    "\r\n",
    "    # # simulate the circuit\r\n",
    "    if noise == False:\r\n",
    "        job = execute(qcphii,Aer.get_backend('qasm_simulator'),shots=8192)\r\n",
    "        counts = job.result().get_counts(0)\r\n",
    "\r\n",
    "    if noise == True:\r\n",
    "        result = execute(qcphii, Aer.get_backend('qasm_simulator'),\r\n",
    "                        coupling_map=coupling_map,\r\n",
    "                        basis_gates=basis_gates,\r\n",
    "                        noise_model=noise_model,\r\n",
    "                        shots=8192).result()\r\n",
    "        counts = result.get_counts(0)\r\n",
    "\r\n",
    "    return counts    "
   ],
   "outputs": [],
   "metadata": {}
  },
  {
   "cell_type": "code",
   "execution_count": 5,
   "source": [
    "i = [-1,1,1,1,1,1,1,1]\r\n",
    "w = [-1,1,1,1,1,1,1,1]\r\n",
    "\r\n",
    "QuantumNeuron(i, w, displays=True)"
   ],
   "outputs": [
    {
     "output_type": "display_data",
     "data": {
      "text/html": [
       "<pre style=\"word-wrap: normal;white-space: pre;background: #fff0;line-height: 1.1;font-family: &quot;Courier New&quot;,Courier,monospace\">     ┌───┐      ░ ┌───┐     ┌───┐ ░ ┌───┐     ┌───┐ ░ ┌───┐      ░ ┌───┐     »\n",
       "q_0: ┤ H ├──────░─┤ X ├──■──┤ X ├─░─┤ X ├──■──┤ X ├─░─┤ H ├──────░─┤ X ├──■──»\n",
       "     ├───┤      ░ ├───┤  │  ├───┤ ░ ├───┤  │  ├───┤ ░ ├───┤      ░ ├───┤  │  »\n",
       "q_1: ┤ H ├──────░─┤ X ├──■──┤ X ├─░─┤ X ├──■──┤ X ├─░─┤ H ├──────░─┤ X ├──■──»\n",
       "     ├───┤      ░ ├───┤  │  ├───┤ ░ ├───┤  │  ├───┤ ░ ├───┤      ░ ├───┤  │  »\n",
       "q_2: ┤ H ├──────░─┤ X ├──■──┤ X ├─░─┤ X ├──■──┤ X ├─░─┤ H ├──────░─┤ X ├──■──»\n",
       "     ├───┤┌───┐ ░ └───┘┌─┴─┐└───┘ ░ └───┘┌─┴─┐└───┘ ░ ├───┤┌───┐ ░ └───┘┌─┴─┐»\n",
       "q_3: ┤ X ├┤ H ├─░──────┤ X ├──────░──────┤ X ├──────░─┤ H ├┤ X ├─░──────┤ X ├»\n",
       "     └───┘└───┘ ░      └───┘      ░      └───┘      ░ └───┘└───┘ ░      └───┘»\n",
       "c: 1/════════════════════════════════════════════════════════════════════════»\n",
       "                                                                             »\n",
       "«        \n",
       "«q_0: ───\n",
       "«        \n",
       "«q_1: ───\n",
       "«        \n",
       "«q_2: ───\n",
       "«     ┌─┐\n",
       "«q_3: ┤M├\n",
       "«     └╥┘\n",
       "«c: 1/═╩═\n",
       "«      0 </pre>"
      ],
      "text/plain": [
       "     ┌───┐      ░ ┌───┐     ┌───┐ ░ ┌───┐     ┌───┐ ░ ┌───┐      ░ ┌───┐     »\n",
       "q_0: ┤ H ├──────░─┤ X ├──■──┤ X ├─░─┤ X ├──■──┤ X ├─░─┤ H ├──────░─┤ X ├──■──»\n",
       "     ├───┤      ░ ├───┤  │  ├───┤ ░ ├───┤  │  ├───┤ ░ ├───┤      ░ ├───┤  │  »\n",
       "q_1: ┤ H ├──────░─┤ X ├──■──┤ X ├─░─┤ X ├──■──┤ X ├─░─┤ H ├──────░─┤ X ├──■──»\n",
       "     ├───┤      ░ ├───┤  │  ├───┤ ░ ├───┤  │  ├───┤ ░ ├───┤      ░ ├───┤  │  »\n",
       "q_2: ┤ H ├──────░─┤ X ├──■──┤ X ├─░─┤ X ├──■──┤ X ├─░─┤ H ├──────░─┤ X ├──■──»\n",
       "     ├───┤┌───┐ ░ └───┘┌─┴─┐└───┘ ░ └───┘┌─┴─┐└───┘ ░ ├───┤┌───┐ ░ └───┘┌─┴─┐»\n",
       "q_3: ┤ X ├┤ H ├─░──────┤ X ├──────░──────┤ X ├──────░─┤ H ├┤ X ├─░──────┤ X ├»\n",
       "     └───┘└───┘ ░      └───┘      ░      └───┘      ░ └───┘└───┘ ░      └───┘»\n",
       "c: 1/════════════════════════════════════════════════════════════════════════»\n",
       "                                                                             »\n",
       "«        \n",
       "«q_0: ───\n",
       "«        \n",
       "«q_1: ───\n",
       "«        \n",
       "«q_2: ───\n",
       "«     ┌─┐\n",
       "«q_3: ┤M├\n",
       "«     └╥┘\n",
       "«c: 1/═╩═\n",
       "«      0 "
      ]
     },
     "metadata": {}
    },
    {
     "output_type": "execute_result",
     "data": {
      "text/plain": [
       "{'1': 8192}"
      ]
     },
     "metadata": {},
     "execution_count": 5
    }
   ],
   "metadata": {}
  },
  {
   "cell_type": "markdown",
   "source": [
    "# Generating all possible input vector patterns\r\n",
    "\r\n",
    "We have chosen $2^3$-dimensional input and weight vectors $\\vec{i}$, $\\vec{w}$. We are fixing $\\vec{w}$ and\r\n",
    "running all $256$ possible patterns of $\\vec{i}$ on it.\r\n",
    "The $\\vec{i}$ input vector patterns are generated in such way that initially, we have all $\\vec{i_j} \\in \\{1\\}$ and then we incrementally set some $\\vec{i_j} = −1$ at different positions, finally having all $\\vec{i_j} \\in \\{-1\\}$."
   ],
   "metadata": {}
  },
  {
   "cell_type": "code",
   "execution_count": 6,
   "source": [
    "# get all the combinations of input vector i of 8-dimension = 2^8 = 256\r\n",
    "\r\n",
    "# to generate all combinations of a vector\r\n",
    "def binary_combinations(lst):\r\n",
    "    for comb in combinations(range(len(lst)), lst.count(1)):\r\n",
    "        result = [-1] * len(lst)\r\n",
    "        for i in comb:\r\n",
    "            result[i] = 1\r\n",
    "        yield result\r\n",
    "\r\n",
    "# to save all the input patterns\r\n",
    "possibleInputs = []\r\n",
    "# 9 basic input vector i of 8-dimension with different -1 values\r\n",
    "i_lst = [[1, 1, 1, 1, 1, 1, 1, 1], [-1, 1, 1, 1, 1, 1, 1, 1], [-1, -1, 1, 1, 1, 1, 1, 1], [-1, -1, -1, 1, 1, 1, 1, 1], \r\n",
    "        [-1, -1, -1, -1, 1, 1, 1, 1], [-1, -1, -1, -1, -1, 1, 1, 1], [-1, -1, -1, -1, -1, -1, 1, 1],\r\n",
    "        [-1, -1, -1, -1, -1, -1, -1, 1], [-1, -1, -1, -1, -1, -1, -1, -1]]\r\n",
    "\r\n",
    "for i in i_lst:\r\n",
    "    for comb in binary_combinations(i):\r\n",
    "        possibleInputs.append(comb)\r\n",
    "\r\n",
    "print(\"Total possible pattern of the input vector : \" + str(len(possibleInputs)))\r\n"
   ],
   "outputs": [
    {
     "output_type": "stream",
     "name": "stdout",
     "text": [
      "Total possible pattern of the input vector : 256\n"
     ]
    }
   ],
   "metadata": {}
  },
  {
   "cell_type": "markdown",
   "source": [
    "# Ideal Simulation with all possible input vector patterns\r\n",
    "We are simulating the circuit with all the generated input vectors and plotting the probability of the outcome 1, that is, the probability of ancila being $|1\\rangle$, which indicates the activation of the perceptron. Below is the circuit simulation in an ideal case where there is no error in the measurement process as well as the gates."
   ],
   "metadata": {}
  },
  {
   "cell_type": "code",
   "execution_count": 7,
   "source": [
    "### running the ideal circuit on all the input vectors ###\r\n",
    "\r\n",
    "# save the output\r\n",
    "ideal_graph_result = []\r\n",
    "\r\n",
    "# fix weight vector\r\n",
    "weight = [-1,1,1,1,1,1,1,-1]\r\n",
    "\r\n",
    "for i in possibleInputs:\r\n",
    "    result = QuantumNeuron(i, weight)\r\n",
    "    # save the probability of the outcome 1\r\n",
    "    if '1' in result.keys():\r\n",
    "        ideal_graph_result.append((result['1'])/8192)\r\n",
    "        # if i exaclty matches w, print it\r\n",
    "        if result['1'] == 8192:\r\n",
    "            print(i, result)\r\n",
    "    elif '0' in result.keys():\r\n",
    "        ideal_graph_result.append(0)"
   ],
   "outputs": [
    {
     "output_type": "stream",
     "name": "stdout",
     "text": [
      "[-1, 1, 1, 1, 1, 1, 1, -1] {'1': 8192}\n",
      "[1, -1, -1, -1, -1, -1, -1, 1] {'1': 8192}\n"
     ]
    }
   ],
   "metadata": {}
  },
  {
   "cell_type": "markdown",
   "source": [
    "## Plot the graph of ideal simulation"
   ],
   "metadata": {}
  },
  {
   "cell_type": "code",
   "execution_count": 8,
   "source": [
    "# plot bar graph of the measurement result of all input vectors\r\n",
    "\r\n",
    "fig = plt.figure()\r\n",
    "ax = fig.add_axes([0,0,1.5,1.5])\r\n",
    "x_axis = [j for j in range(len(ideal_graph_result))]\r\n",
    "ax.bar(x_axis, ideal_graph_result)\r\n",
    "ax.set_ylim(0,1)\r\n",
    "ax.set_xlabel(r'$\\vec{i}$'+' input vectors', fontsize=16)\r\n",
    "ax.set_ylabel('measurement output '+r'$\\mid \\sum_{j}i_jw_j \\mid^2$', fontsize=16)\r\n",
    "ax.text(220, 1.01, \"ideal circuit\", fontsize=18)\r\n",
    "ax.set_title(r'$\\vec{w}$'+ ' = ' +str(weight), fontsize=16)\r\n",
    "plt.show()"
   ],
   "outputs": [
    {
     "output_type": "display_data",
     "data": {
      "image/png": "[encoded data removed]",
      "text/plain": [
       "<Figure size 432x288 with 1 Axes>"
      ]
     },
     "metadata": {
      "needs_background": "light"
     }
    }
   ],
   "metadata": {}
  },
  {
   "cell_type": "markdown",
   "source": [
    "# Noise Model Simulation\r\n",
    "In order to replicate the circuit simulation on a real quantum processor where there is noise\r\n",
    "associated with all processes in a quantum circuit (preparing the initial state, applying gates, and\r\n",
    "qubit measurement), we are also simulating the noise of a quantum processors in Qiskit using\r\n",
    "Noise Model Class and evaluating its performance with respect to the ideal simulation with no\r\n",
    "noise. We used the available noise model for the ibmq manila real device backend from the IBMQ provider."
   ],
   "metadata": {}
  },
  {
   "cell_type": "code",
   "execution_count": 9,
   "source": [
    "### Build noise model from backend properties ###\r\n",
    "\r\n",
    "# uncomment the statement below to login for the first time using given account\r\n",
    "# IBMQ.save_account('18c877753a27fe62e81fd7040287898dc8968802f7364f3176d9848ba03e2636ad99fc89f4756781b9f3ef311f39acb0bf487b45d269a34fecbc70e13d833119')\r\n",
    "provider = IBMQ.load_account()\r\n",
    "ibmq_backend = 'ibmq_manila'\r\n",
    "backend = provider.get_backend(ibmq_backend)\r\n",
    "# loading the noise model\r\n",
    "noise_model = NoiseModel.from_backend(backend)\r\n",
    "# Get coupling map from backend\r\n",
    "coupling_map = backend.configuration().coupling_map\r\n",
    "# Get basis gates from noise model\r\n",
    "basis_gates = noise_model.basis_gates\r\n",
    "print(noise_model)\r\n",
    "\r\n",
    "### running the noise included circuit on all the input vectors ###\r\n",
    "noise_graph_result = []\r\n",
    "\r\n",
    "for i in possibleInputs:\r\n",
    "    result = QuantumNeuron(i, weight, noise=True)\r\n",
    "    # save the probability of the outcome 1\r\n",
    "    if '1' in result.keys():\r\n",
    "        noise_graph_result.append((result['1'])/8192)\r\n",
    "        # if i exaclty matches w, print it\r\n",
    "        if result['1'] == 8192:\r\n",
    "            print(i, result)\r\n",
    "    elif '0' in result.keys():\r\n",
    "        noise_graph_result.append(0)"
   ],
   "outputs": [
    {
     "output_type": "stream",
     "name": "stdout",
     "text": [
      "NoiseModel:\n",
      "  Basis gates: ['cx', 'id', 'reset', 'rz', 'sx', 'x']\n",
      "  Instructions with noise: ['measure', 'reset', 'id', 'x', 'cx', 'sx']\n",
      "  Qubits with noise: [0, 1, 2, 3, 4]\n",
      "  Specific qubit errors: [('id', [0]), ('id', [1]), ('id', [2]), ('id', [3]), ('id', [4]), ('sx', [0]), ('sx', [1]), ('sx', [2]), ('sx', [3]), ('sx', [4]), ('x', [0]), ('x', [1]), ('x', [2]), ('x', [3]), ('x', [4]), ('cx', [4, 3]), ('cx', [3, 4]), ('cx', [2, 3]), ('cx', [3, 2]), ('cx', [1, 2]), ('cx', [2, 1]), ('cx', [0, 1]), ('cx', [1, 0]), ('reset', [0]), ('reset', [1]), ('reset', [2]), ('reset', [3]), ('reset', [4]), ('measure', [0]), ('measure', [1]), ('measure', [2]), ('measure', [3]), ('measure', [4])]\n"
     ]
    }
   ],
   "metadata": {}
  },
  {
   "cell_type": "markdown",
   "source": [
    "## Mean Squared Error - MSE\r\n",
    "In order to give a quantitative measurement of the overall agreement between ideal and noise\r\n",
    "included models, we are also calculating the mean squared error of the generated results between\r\n",
    "them which is calculated below."
   ],
   "metadata": {}
  },
  {
   "cell_type": "code",
   "execution_count": 10,
   "source": [
    "# calculating MSE\r\n",
    "\r\n",
    "error = 0\r\n",
    "# add error of all the simulations of input vectors\r\n",
    "for i in range(len(possibleInputs)):\r\n",
    "    error += (noise_graph_result[i] - ideal_graph_result[i])**2\r\n",
    "\r\n",
    "mean_squared_error = round(error / len(possibleInputs), 3)\r\n",
    "print(mean_squared_error)\r\n"
   ],
   "outputs": [
    {
     "output_type": "stream",
     "name": "stdout",
     "text": [
      "0.086\n"
     ]
    }
   ],
   "metadata": {}
  },
  {
   "cell_type": "markdown",
   "source": [
    "## Plot the graph of noise simulation"
   ],
   "metadata": {}
  },
  {
   "cell_type": "code",
   "execution_count": 11,
   "source": [
    "# plot bar graph of the measurement results with noise\r\n",
    "fig = plt.figure()\r\n",
    "ax = fig.add_axes([0,0,1.5,1.5])\r\n",
    "x_axis = [j for j in range(len(noise_graph_result))]\r\n",
    "ax.bar(x_axis, noise_graph_result)\r\n",
    "ax.set_ylim(0,1)\r\n",
    "ax.set_xlabel(r'$\\vec{i}$'+' input vectors', fontsize=16)\r\n",
    "ax.set_ylabel('measurement output '+ r'$\\mid \\sum_{j}i_jw_j \\mid^2$', fontsize=16)\r\n",
    "ax.text(210, 0.9, ibmq_backend + \"\\n d = \" + str(mean_squared_error), fontsize=18)\r\n",
    "ax.set_title(r'$\\vec{w}$' + ' = ' + str(weight), fontsize=16)\r\n",
    "plt.show()"
   ],
   "outputs": [
    {
     "output_type": "display_data",
     "data": {
      "image/png": "[encoded data removed]",
      "text/plain": [
       "<Figure size 432x288 with 1 Axes>"
      ]
     },
     "metadata": {
      "needs_background": "light"
     }
    }
   ],
   "metadata": {}
  }
 ],
 "metadata": {
  "interpreter": {
   "hash": "2db524e06e9f5f4ffedc911c917cb75e12dbc923643829bf417064a77eb14d37"
  },
  "kernelspec": {
   "name": "python3",
   "display_name": "Python 3.8.5 64-bit"
  },
  "language_info": {
   "codemirror_mode": {
    "name": "ipython",
    "version": 3
   },
   "file_extension": ".py",
   "mimetype": "text/x-python",
   "name": "python",
   "nbconvert_exporter": "python",
   "pygments_lexer": "ipython3",
   "version": "3.8.5"
  },
  "orig_nbformat": 4
 },
 "nbformat": 4,
 "nbformat_minor": 2
}
